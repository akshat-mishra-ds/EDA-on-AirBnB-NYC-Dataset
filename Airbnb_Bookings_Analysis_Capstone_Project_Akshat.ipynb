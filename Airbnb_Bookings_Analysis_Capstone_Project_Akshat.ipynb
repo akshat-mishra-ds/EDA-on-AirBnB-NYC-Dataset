{
  "nbformat": 4,
  "nbformat_minor": 0,
  "metadata": {
    "kernelspec": {
      "display_name": "Python 3",
      "language": "python",
      "name": "python3"
    },
    "language_info": {
      "codemirror_mode": {
        "name": "ipython",
        "version": 3
      },
      "file_extension": ".py",
      "mimetype": "text/x-python",
      "name": "python",
      "nbconvert_exporter": "python",
      "pygments_lexer": "ipython3",
      "version": "3.6.6"
    },
    "colab": {
      "provenance": [],
      "collapsed_sections": [],
      "include_colab_link": true
    }
  },
  "cells": [
    {
      "cell_type": "markdown",
      "metadata": {
        "id": "view-in-github",
        "colab_type": "text"
      },
      "source": [
        "<a href=\"https://colab.research.google.com/github/akshat0522/EDA-on-AirBnB-NYC-Dataset/blob/main/Airbnb_Bookings_Analysis_Capstone_Project_Akshat.ipynb\" target=\"_parent\"><img src=\"https://colab.research.google.com/assets/colab-badge.svg\" alt=\"Open In Colab\"/></a>"
      ]
    },
    {
      "cell_type": "markdown",
      "metadata": {
        "id": "Y06xIdG26kRF"
      },
      "source": [
        "## <b> Since 2008, guests and hosts have used Airbnb to expand on traveling possibilities and present a more unique, personalized way of experiencing the world. Today, Airbnb became one of a kind service that is used and recognized by the whole world. Data analysis on millions of listings provided through Airbnb is a crucial factor for the company. These millions of listings generate a lot of data - data that can be analyzed and used for security, business decisions, understanding of customers' and providers' (hosts) behavior and performance on the platform, guiding marketing initiatives, implementation of innovative additional services and much more. </b>\n",
        "\n",
        "## <b>This dataset has around 49,000 observations in it with 16 columns and it is a mix between categorical and numeric values. </b>\n",
        "\n",
        "## <b> Explore and analyze the data to discover key understandings (not limited to these) such as : \n",
        "* What can we learn about different hosts and areas?\n",
        "* What can we learn from predictions? (ex: locations, prices, reviews, etc)\n",
        "* Which hosts are the busiest and why?\n",
        "* Is there any noticeable difference of traffic among different areas and what could be the reason for it? </b>"
      ]
    },
    {
      "cell_type": "markdown",
      "source": [
        "# Accessing and Reading the Data\n",
        "---"
      ],
      "metadata": {
        "id": "q5CsnaKKp_Fo"
      }
    },
    {
      "cell_type": "code",
      "source": [
        "# Importing liberaries\n",
        "import pandas as pd\n",
        "import numpy as np\n",
        "import seaborn as sns\n",
        "import matplotlib.pyplot as plt\n",
        "%matplotlib inline"
      ],
      "metadata": {
        "id": "2HibgI_dGD1z"
      },
      "execution_count": 1,
      "outputs": []
    },
    {
      "cell_type": "code",
      "source": [
        "# Mounting the drive\n",
        "from google.colab import drive\n",
        "drive.mount('/content/drive')"
      ],
      "metadata": {
        "colab": {
          "base_uri": "https://localhost:8080/"
        },
        "id": "dj9dAW0vFtxt",
        "outputId": "6ab9a31b-e099-4b1d-ef95-ba2141fd20ba"
      },
      "execution_count": 2,
      "outputs": [
        {
          "output_type": "stream",
          "name": "stdout",
          "text": [
            "Mounted at /content/drive\n"
          ]
        }
      ]
    },
    {
      "cell_type": "code",
      "source": [
        "# Creation of DataFrame and Reading the data\n",
        "airBnB_Data = pd.DataFrame()\n",
        "airBnB_Data = pd.read_csv('/content/drive/MyDrive/Colab Notebooks/Module 1 : Python for Data Science/Capstone Project - EDA on AirBnB Bookings Analysis/AirBnB Bookings Analysis/Airbnb NYC 2019.csv')"
      ],
      "metadata": {
        "id": "QIftbEB4F6zd"
      },
      "execution_count": 3,
      "outputs": []
    },
    {
      "cell_type": "markdown",
      "source": [
        "# Understanding the dataset\n",
        "---"
      ],
      "metadata": {
        "id": "MXS5VXJsqZmT"
      }
    },
    {
      "cell_type": "code",
      "source": [
        "# Getting the basic information of dataset\n",
        "airBnB_Data.info()"
      ],
      "metadata": {
        "colab": {
          "base_uri": "https://localhost:8080/"
        },
        "id": "iTfS4MMwRWwI",
        "outputId": "d4073446-19bb-4647-e131-f86f62604841"
      },
      "execution_count": 4,
      "outputs": [
        {
          "output_type": "stream",
          "name": "stdout",
          "text": [
            "<class 'pandas.core.frame.DataFrame'>\n",
            "RangeIndex: 48895 entries, 0 to 48894\n",
            "Data columns (total 16 columns):\n",
            " #   Column                          Non-Null Count  Dtype  \n",
            "---  ------                          --------------  -----  \n",
            " 0   id                              48895 non-null  int64  \n",
            " 1   name                            48879 non-null  object \n",
            " 2   host_id                         48895 non-null  int64  \n",
            " 3   host_name                       48874 non-null  object \n",
            " 4   neighbourhood_group             48895 non-null  object \n",
            " 5   neighbourhood                   48895 non-null  object \n",
            " 6   latitude                        48895 non-null  float64\n",
            " 7   longitude                       48895 non-null  float64\n",
            " 8   room_type                       48895 non-null  object \n",
            " 9   price                           48895 non-null  int64  \n",
            " 10  minimum_nights                  48895 non-null  int64  \n",
            " 11  number_of_reviews               48895 non-null  int64  \n",
            " 12  last_review                     38843 non-null  object \n",
            " 13  reviews_per_month               38843 non-null  float64\n",
            " 14  calculated_host_listings_count  48895 non-null  int64  \n",
            " 15  availability_365                48895 non-null  int64  \n",
            "dtypes: float64(3), int64(7), object(6)\n",
            "memory usage: 6.0+ MB\n"
          ]
        }
      ]
    },
    {
      "cell_type": "code",
      "source": [
        "# Calculating the total null values in the given dataset\n",
        "airBnB_Data.isna().sum()"
      ],
      "metadata": {
        "colab": {
          "base_uri": "https://localhost:8080/"
        },
        "id": "xXnuskCbIXb-",
        "outputId": "6d81af9b-baf3-4212-9f0e-113f8685772f"
      },
      "execution_count": 5,
      "outputs": [
        {
          "output_type": "execute_result",
          "data": {
            "text/plain": [
              "id                                    0\n",
              "name                                 16\n",
              "host_id                               0\n",
              "host_name                            21\n",
              "neighbourhood_group                   0\n",
              "neighbourhood                         0\n",
              "latitude                              0\n",
              "longitude                             0\n",
              "room_type                             0\n",
              "price                                 0\n",
              "minimum_nights                        0\n",
              "number_of_reviews                     0\n",
              "last_review                       10052\n",
              "reviews_per_month                 10052\n",
              "calculated_host_listings_count        0\n",
              "availability_365                      0\n",
              "dtype: int64"
            ]
          },
          "metadata": {},
          "execution_count": 5
        }
      ]
    },
    {
      "cell_type": "markdown",
      "source": [
        "# Exploration and Analysis\n",
        "---"
      ],
      "metadata": {
        "id": "KmsfDLDWqfzH"
      }
    },
    {
      "cell_type": "markdown",
      "source": [
        "## 1). What are the different room types in the whole dataset.?"
      ],
      "metadata": {
        "id": "FVF23KsFRqW-"
      }
    },
    {
      "cell_type": "code",
      "source": [
        "# Doing the value count on room_type column and storing the value in room data variable\n",
        "airBnB_Data['room_type'].value_counts().sort_values()"
      ],
      "metadata": {
        "id": "oPKleCRaeV63",
        "colab": {
          "base_uri": "https://localhost:8080/"
        },
        "outputId": "45c4a753-8bcb-41d6-df03-2588ae1eba0c"
      },
      "execution_count": 34,
      "outputs": [
        {
          "output_type": "execute_result",
          "data": {
            "text/plain": [
              "Shared room         1160\n",
              "Private room       22326\n",
              "Entire home/apt    25409\n",
              "Name: room_type, dtype: int64"
            ]
          },
          "metadata": {},
          "execution_count": 34
        }
      ]
    },
    {
      "cell_type": "code",
      "source": [
        "# Representing the room types using seaborn countplot\n",
        "sns.countplot(airBnB_Data.room_type).set(title='Types of rooms in the whole Data Set')"
      ],
      "metadata": {
        "colab": {
          "base_uri": "https://localhost:8080/",
          "height": 370
        },
        "id": "zn90pludscuH",
        "outputId": "64c3e055-1513-440a-9c08-ef1d5be4b2b7"
      },
      "execution_count": 35,
      "outputs": [
        {
          "output_type": "stream",
          "name": "stderr",
          "text": [
            "/usr/local/lib/python3.7/dist-packages/seaborn/_decorators.py:43: FutureWarning: Pass the following variable as a keyword arg: x. From version 0.12, the only valid positional argument will be `data`, and passing other arguments without an explicit keyword will result in an error or misinterpretation.\n",
            "  FutureWarning\n"
          ]
        },
        {
          "output_type": "execute_result",
          "data": {
            "text/plain": [
              "[Text(0.5, 1.0, 'Types of rooms in the whole Data Set')]"
            ]
          },
          "metadata": {},
          "execution_count": 35
        },
        {
          "output_type": "display_data",
          "data": {
            "text/plain": [
              "<Figure size 432x288 with 1 Axes>"
            ],
            "image/png": "[encoded data removed]"
          },
          "metadata": {
            "needs_background": "light"
          }
        }
      ]
    },
    {
      "cell_type": "markdown",
      "source": [
        "**Comments** - This shows that the entire home / apt category has the highest number of rooms followed by private rooms. Shared room is the least prefered category."
      ],
      "metadata": {
        "id": "rQfm-IJUtWX8"
      }
    },
    {
      "cell_type": "markdown",
      "source": [
        "## 2). Room types on Neighbourhood Groups"
      ],
      "metadata": {
        "id": "4jjjp4UvA4jB"
      }
    },
    {
      "cell_type": "code",
      "source": [
        "plt.figure(figsize=(14,6))\n",
        "sns.countplot(airBnB_Data.neighbourhood_group, hue = airBnB_Data.room_type).set(title='Rooms types on Neighbourhood Group')"
      ],
      "metadata": {
        "colab": {
          "base_uri": "https://localhost:8080/",
          "height": 479
        },
        "id": "AEuCZZktBL8B",
        "outputId": "eaaa77c4-d202-4689-8099-4e6c36c19cc2"
      },
      "execution_count": 36,
      "outputs": [
        {
          "output_type": "stream",
          "name": "stderr",
          "text": [
            "/usr/local/lib/python3.7/dist-packages/seaborn/_decorators.py:43: FutureWarning: Pass the following variable as a keyword arg: x. From version 0.12, the only valid positional argument will be `data`, and passing other arguments without an explicit keyword will result in an error or misinterpretation.\n",
            "  FutureWarning\n"
          ]
        },
        {
          "output_type": "execute_result",
          "data": {
            "text/plain": [
              "[Text(0.5, 1.0, 'Rooms types on Neighbourhood Group')]"
            ]
          },
          "metadata": {},
          "execution_count": 36
        },
        {
          "output_type": "display_data",
          "data": {
            "text/plain": [
              "<Figure size 1008x432 with 1 Axes>"
            ],
            "image/png": "[encoded data removed]"
          },
          "metadata": {
            "needs_background": "light"
          }
        }
      ]
    },
    {
      "cell_type": "markdown",
      "source": [
        "**Comments** - Neighbourgroup wise visualization of room types. In manhatten, we have highest \"Entire home / apt\" category whereas Brooklyn has the highest number of private rooms. Staten Island is having the least number of listings in all three types of rooms category."
      ],
      "metadata": {
        "id": "njHmUPgmt7B3"
      }
    },
    {
      "cell_type": "markdown",
      "source": [
        "## 3). Top 10 neighbourhoods having maximum listings and their room types."
      ],
      "metadata": {
        "id": "ORONm4jDHOiL"
      }
    },
    {
      "cell_type": "code",
      "source": [
        "airBnB_Data['neighbourhood'].value_counts().sort_values(ascending = False).head(10)"
      ],
      "metadata": {
        "colab": {
          "base_uri": "https://localhost:8080/"
        },
        "id": "pjHTJgF8H7gM",
        "outputId": "186e902a-d063-4dfc-bb25-5af158448382"
      },
      "execution_count": 37,
      "outputs": [
        {
          "output_type": "execute_result",
          "data": {
            "text/plain": [
              "Williamsburg          3920\n",
              "Bedford-Stuyvesant    3714\n",
              "Harlem                2658\n",
              "Bushwick              2465\n",
              "Upper West Side       1971\n",
              "Hell's Kitchen        1958\n",
              "East Village          1853\n",
              "Upper East Side       1798\n",
              "Crown Heights         1564\n",
              "Midtown               1545\n",
              "Name: neighbourhood, dtype: int64"
            ]
          },
          "metadata": {},
          "execution_count": 37
        }
      ]
    },
    {
      "cell_type": "code",
      "source": [
        "top_neighbourhood = airBnB_Data.loc[airBnB_Data['neighbourhood'].isin(['Williamsburg','Bedford-Stuyvesant','Harlem','Bushwick',\n",
        "                 'Upper West Side','Hell\\'s Kitchen','East Village','Upper East Side','Crown Heights','Midtown'])]\n",
        "\n",
        "sns.catplot(x='neighbourhood', hue='neighbourhood_group', col ='room_type', data=top_neighbourhood, kind='count').set_xticklabels(rotation=90)\n"
      ],
      "metadata": {
        "colab": {
          "base_uri": "https://localhost:8080/",
          "height": 476
        },
        "id": "3jEQbN_h_MaR",
        "outputId": "825137b8-ea28-4265-e50c-2ce497096b1c"
      },
      "execution_count": 38,
      "outputs": [
        {
          "output_type": "execute_result",
          "data": {
            "text/plain": [
              "<seaborn.axisgrid.FacetGrid at 0x7fec455d2290>"
            ]
          },
          "metadata": {},
          "execution_count": 38
        },
        {
          "output_type": "display_data",
          "data": {
            "text/plain": [
              "<Figure size 1197.38x360 with 3 Axes>"
            ],
            "image/png": "[encoded data removed]"
          },
          "metadata": {
            "needs_background": "light"
          }
        }
      ]
    },
    {
      "cell_type": "markdown",
      "source": [
        "**Comments** - After calculating we got to know that top 10 neighbourhoods belongs to only 2 neighbourhood_groups which are \"Manhatten\" and \"Brooklyn\". And their accociated room types can also be seen in the plot clearly."
      ],
      "metadata": {
        "id": "Hu9NVE-cvPWt"
      }
    },
    {
      "cell_type": "markdown",
      "source": [
        "## 4). Which room type is the most expensive.? And what is the average price of each room category.?"
      ],
      "metadata": {
        "id": "J7koz7yl6BDQ"
      }
    },
    {
      "cell_type": "code",
      "source": [
        "# Grouping by room type and price and getting room price average\n",
        "expensive_rooms = airBnB_Data.groupby('room_type')['price'].mean().reset_index()\n",
        "# Creating a seperate dataframe for better visualization\n",
        "expensive_rooms_df = pd.DataFrame(expensive_rooms)\n",
        "expensive_rooms_df"
      ],
      "metadata": {
        "colab": {
          "base_uri": "https://localhost:8080/",
          "height": 143
        },
        "id": "JI-oVTwb6HLJ",
        "outputId": "5cc189d4-d29f-44ba-bb23-c3eda223f68c"
      },
      "execution_count": 39,
      "outputs": [
        {
          "output_type": "execute_result",
          "data": {
            "text/plain": [
              "         room_type       price\n",
              "0  Entire home/apt  211.794246\n",
              "1     Private room   89.780973\n",
              "2      Shared room   70.127586"
            ],
            "text/html": [
              "\n",
              "  <div id=\"df-8a325b93-a55a-40c4-b1f7-c6e3aa267591\">\n",
              "    <div class=\"colab-df-container\">\n",
              "      <div>\n",
              "<style scoped>\n",
              "    .dataframe tbody tr th:only-of-type {\n",
              "        vertical-align: middle;\n",
              "    }\n",
              "\n",
              "    .dataframe tbody tr th {\n",
              "        vertical-align: top;\n",
              "    }\n",
              "\n",
              "    .dataframe thead th {\n",
              "        text-align: right;\n",
              "    }\n",
              "</style>\n",
              "<table border=\"1\" class=\"dataframe\">\n",
              "  <thead>\n",
              "    <tr style=\"text-align: right;\">\n",
              "      <th></th>\n",
              "      <th>room_type</th>\n",
              "      <th>price</th>\n",
              "    </tr>\n",
              "  </thead>\n",
              "  <tbody>\n",
              "    <tr>\n",
              "      <th>0</th>\n",
              "      <td>Entire home/apt</td>\n",
              "      <td>211.794246</td>\n",
              "    </tr>\n",
              "    <tr>\n",
              "      <th>1</th>\n",
              "      <td>Private room</td>\n",
              "      <td>89.780973</td>\n",
              "    </tr>\n",
              "    <tr>\n",
              "      <th>2</th>\n",
              "      <td>Shared room</td>\n",
              "      <td>70.127586</td>\n",
              "    </tr>\n",
              "  </tbody>\n",
              "</table>\n",
              "</div>\n",
              "      <button class=\"colab-df-convert\" onclick=\"convertToInteractive('df-8a325b93-a55a-40c4-b1f7-c6e3aa267591')\"\n",
              "              title=\"Convert this dataframe to an interactive table.\"\n",
              "              style=\"display:none;\">\n",
              "        \n",
              "  <svg xmlns=\"http://www.w3.org/2000/svg\" height=\"24px\"viewBox=\"0 0 24 24\"\n",
              "       width=\"24px\">\n",
              "    <path d=\"M0 0h24v24H0V0z\" fill=\"none\"/>\n",
              "    <path d=\"M18.56 5.44l.94 2.06.94-2.06 2.06-.94-2.06-.94-.94-2.06-.94 2.06-2.06.94zm-11 1L8.5 8.5l.94-2.06 2.06-.94-2.06-.94L8.5 2.5l-.94 2.06-2.06.94zm10 10l.94 2.06.94-2.06 2.06-.94-2.06-.94-.94-2.06-.94 2.06-2.06.94z\"/><path d=\"M17.41 7.96l-1.37-1.37c-.4-.4-.92-.59-1.43-.59-.52 0-1.04.2-1.43.59L10.3 9.45l-7.72 7.72c-.78.78-.78 2.05 0 2.83L4 21.41c.39.39.9.59 1.41.59.51 0 1.02-.2 1.41-.59l7.78-7.78 2.81-2.81c.8-.78.8-2.07 0-2.86zM5.41 20L4 18.59l7.72-7.72 1.47 1.35L5.41 20z\"/>\n",
              "  </svg>\n",
              "      </button>\n",
              "      \n",
              "  <style>\n",
              "    .colab-df-container {\n",
              "      display:flex;\n",
              "      flex-wrap:wrap;\n",
              "      gap: 12px;\n",
              "    }\n",
              "\n",
              "    .colab-df-convert {\n",
              "      background-color: #E8F0FE;\n",
              "      border: none;\n",
              "      border-radius: 50%;\n",
              "      cursor: pointer;\n",
              "      display: none;\n",
              "      fill: #1967D2;\n",
              "      height: 32px;\n",
              "      padding: 0 0 0 0;\n",
              "      width: 32px;\n",
              "    }\n",
              "\n",
              "    .colab-df-convert:hover {\n",
              "      background-color: #E2EBFA;\n",
              "      box-shadow: 0px 1px 2px rgba(60, 64, 67, 0.3), 0px 1px 3px 1px rgba(60, 64, 67, 0.15);\n",
              "      fill: #174EA6;\n",
              "    }\n",
              "\n",
              "    [theme=dark] .colab-df-convert {\n",
              "      background-color: #3B4455;\n",
              "      fill: #D2E3FC;\n",
              "    }\n",
              "\n",
              "    [theme=dark] .colab-df-convert:hover {\n",
              "      background-color: #434B5C;\n",
              "      box-shadow: 0px 1px 3px 1px rgba(0, 0, 0, 0.15);\n",
              "      filter: drop-shadow(0px 1px 2px rgba(0, 0, 0, 0.3));\n",
              "      fill: #FFFFFF;\n",
              "    }\n",
              "  </style>\n",
              "\n",
              "      <script>\n",
              "        const buttonEl =\n",
              "          document.querySelector('#df-8a325b93-a55a-40c4-b1f7-c6e3aa267591 button.colab-df-convert');\n",
              "        buttonEl.style.display =\n",
              "          google.colab.kernel.accessAllowed ? 'block' : 'none';\n",
              "\n",
              "        async function convertToInteractive(key) {\n",
              "          const element = document.querySelector('#df-8a325b93-a55a-40c4-b1f7-c6e3aa267591');\n",
              "          const dataTable =\n",
              "            await google.colab.kernel.invokeFunction('convertToInteractive',\n",
              "                                                     [key], {});\n",
              "          if (!dataTable) return;\n",
              "\n",
              "          const docLinkHtml = 'Like what you see? Visit the ' +\n",
              "            '<a target=\"_blank\" href=https://colab.research.google.com/notebooks/data_table.ipynb>data table notebook</a>'\n",
              "            + ' to learn more about interactive tables.';\n",
              "          element.innerHTML = '';\n",
              "          dataTable['output_type'] = 'display_data';\n",
              "          await google.colab.output.renderOutput(dataTable, element);\n",
              "          const docLink = document.createElement('div');\n",
              "          docLink.innerHTML = docLinkHtml;\n",
              "          element.appendChild(docLink);\n",
              "        }\n",
              "      </script>\n",
              "    </div>\n",
              "  </div>\n",
              "  "
            ]
          },
          "metadata": {},
          "execution_count": 39
        }
      ]
    },
    {
      "cell_type": "code",
      "source": [
        "sns.barplot(x=\"room_type\", y=\"price\", data = expensive_rooms_df, palette='viridis') \\\n",
        ".set(title ='Price of Different Room Type')\n"
      ],
      "metadata": {
        "colab": {
          "base_uri": "https://localhost:8080/",
          "height": 314
        },
        "id": "EQSm7rKu6n-1",
        "outputId": "2aa61609-4bac-4968-ba2d-d13cd98cbb81"
      },
      "execution_count": 40,
      "outputs": [
        {
          "output_type": "execute_result",
          "data": {
            "text/plain": [
              "[Text(0.5, 1.0, 'Price of Different Room Type')]"
            ]
          },
          "metadata": {},
          "execution_count": 40
        },
        {
          "output_type": "display_data",
          "data": {
            "text/plain": [
              "<Figure size 432x288 with 1 Axes>"
            ],
            "image/png": "[encoded data removed]"
          },
          "metadata": {
            "needs_background": "light"
          }
        }
      ]
    },
    {
      "cell_type": "markdown",
      "source": [
        "**Comments** - The most expensive category of rooms is the \"Entire home/apt\" followed by \"Private room\" and \"shared room\" is the least expensive comparing to others."
      ],
      "metadata": {
        "id": "FWDSNDRqxJ56"
      }
    },
    {
      "cell_type": "markdown",
      "source": [
        "## 5). What is the average price of rooms of all the neighbourhood groups.?"
      ],
      "metadata": {
        "id": "M0orke_NUgnR"
      }
    },
    {
      "cell_type": "code",
      "source": [
        "# Grouping by \"neighbourhood/group\" and mean of prices \n",
        "neighbour_group_avg_price = airBnB_Data.groupby('neighbourhood_group')['price'].mean()\n",
        "neighbour_group_avg_price"
      ],
      "metadata": {
        "colab": {
          "base_uri": "https://localhost:8080/"
        },
        "id": "MIqjnRpjXRbd",
        "outputId": "2fa51bcd-427d-44fe-9940-daf44d51dce3"
      },
      "execution_count": 41,
      "outputs": [
        {
          "output_type": "execute_result",
          "data": {
            "text/plain": [
              "neighbourhood_group\n",
              "Bronx             87.496792\n",
              "Brooklyn         124.383207\n",
              "Manhattan        196.875814\n",
              "Queens            99.517649\n",
              "Staten Island    114.812332\n",
              "Name: price, dtype: float64"
            ]
          },
          "metadata": {},
          "execution_count": 41
        }
      ]
    },
    {
      "cell_type": "code",
      "source": [
        "plt.figure(figsize=(10,4))\n",
        "\n",
        "neighbour_group_avg_price.plot(kind = 'bar', )\n",
        "\n",
        "plt.title('Average price according to neighbourhood group')\n",
        "plt.xlabel('Neighbourhood Group')\n",
        "plt.ylabel('Average Price')"
      ],
      "metadata": {
        "colab": {
          "base_uri": "https://localhost:8080/",
          "height": 369
        },
        "id": "fOkn21r5vY48",
        "outputId": "e60abd3f-c14a-4bc4-823a-73afe0dc8b0d"
      },
      "execution_count": 42,
      "outputs": [
        {
          "output_type": "execute_result",
          "data": {
            "text/plain": [
              "Text(0, 0.5, 'Average Price')"
            ]
          },
          "metadata": {},
          "execution_count": 42
        },
        {
          "output_type": "display_data",
          "data": {
            "text/plain": [
              "<Figure size 720x288 with 1 Axes>"
            ],
            "image/png": "[encoded data removed]"
          },
          "metadata": {
            "needs_background": "light"
          }
        }
      ]
    },
    {
      "cell_type": "markdown",
      "source": [
        "**Comments** - Highest room price is in \"Manhatten\" and the lowest is in \"Bronx\"."
      ],
      "metadata": {
        "id": "cLTrX07W0tG8"
      }
    },
    {
      "cell_type": "markdown",
      "source": [
        "## 6). Name of different neighbourhood groups and number of listings associated with them.?"
      ],
      "metadata": {
        "id": "hQd9-fNnPXqs"
      }
    },
    {
      "cell_type": "code",
      "source": [
        "# Getting the unique neighbourhood groups\n",
        "airBnB_Data['neighbourhood_group'].unique()"
      ],
      "metadata": {
        "colab": {
          "base_uri": "https://localhost:8080/"
        },
        "id": "nIw0D1mTP0nj",
        "outputId": "c0750570-d0dc-4c90-aa23-81b7d3a42f76"
      },
      "execution_count": 43,
      "outputs": [
        {
          "output_type": "execute_result",
          "data": {
            "text/plain": [
              "array(['Brooklyn', 'Manhattan', 'Queens', 'Staten Island', 'Bronx'],\n",
              "      dtype=object)"
            ]
          },
          "metadata": {},
          "execution_count": 43
        }
      ]
    },
    {
      "cell_type": "code",
      "source": [
        "# Doing value_count() on neighbourhood group to get the number of associated listings\n",
        "neighbourgroup_listings = airBnB_Data['neighbourhood_group'].value_counts().reset_index()\n",
        "neighbourgroup_listings_df = pd.DataFrame(neighbourgroup_listings)\n",
        "neighbourgroup_listings_df.rename(columns = {'index' : 'Neighbourhood Group' , 'neighbourhood_group' : 'Number of listings'}, inplace = True)\n",
        "neighbourgroup_listings_df"
      ],
      "metadata": {
        "colab": {
          "base_uri": "https://localhost:8080/",
          "height": 206
        },
        "id": "Qa8kfK7wNCJ5",
        "outputId": "583ae6bf-ce19-4397-c372-ec1fbf7965c8"
      },
      "execution_count": 44,
      "outputs": [
        {
          "output_type": "execute_result",
          "data": {
            "text/plain": [
              "  Neighbourhood Group  Number of listings\n",
              "0           Manhattan               21661\n",
              "1            Brooklyn               20104\n",
              "2              Queens                5666\n",
              "3               Bronx                1091\n",
              "4       Staten Island                 373"
            ],
            "text/html": [
              "\n",
              "  <div id=\"df-35020175-ae1e-436b-9f79-ba246b95ba65\">\n",
              "    <div class=\"colab-df-container\">\n",
              "      <div>\n",
              "<style scoped>\n",
              "    .dataframe tbody tr th:only-of-type {\n",
              "        vertical-align: middle;\n",
              "    }\n",
              "\n",
              "    .dataframe tbody tr th {\n",
              "        vertical-align: top;\n",
              "    }\n",
              "\n",
              "    .dataframe thead th {\n",
              "        text-align: right;\n",
              "    }\n",
              "</style>\n",
              "<table border=\"1\" class=\"dataframe\">\n",
              "  <thead>\n",
              "    <tr style=\"text-align: right;\">\n",
              "      <th></th>\n",
              "      <th>Neighbourhood Group</th>\n",
              "      <th>Number of listings</th>\n",
              "    </tr>\n",
              "  </thead>\n",
              "  <tbody>\n",
              "    <tr>\n",
              "      <th>0</th>\n",
              "      <td>Manhattan</td>\n",
              "      <td>21661</td>\n",
              "    </tr>\n",
              "    <tr>\n",
              "      <th>1</th>\n",
              "      <td>Brooklyn</td>\n",
              "      <td>20104</td>\n",
              "    </tr>\n",
              "    <tr>\n",
              "      <th>2</th>\n",
              "      <td>Queens</td>\n",
              "      <td>5666</td>\n",
              "    </tr>\n",
              "    <tr>\n",
              "      <th>3</th>\n",
              "      <td>Bronx</td>\n",
              "      <td>1091</td>\n",
              "    </tr>\n",
              "    <tr>\n",
              "      <th>4</th>\n",
              "      <td>Staten Island</td>\n",
              "      <td>373</td>\n",
              "    </tr>\n",
              "  </tbody>\n",
              "</table>\n",
              "</div>\n",
              "      <button class=\"colab-df-convert\" onclick=\"convertToInteractive('df-35020175-ae1e-436b-9f79-ba246b95ba65')\"\n",
              "              title=\"Convert this dataframe to an interactive table.\"\n",
              "              style=\"display:none;\">\n",
              "        \n",
              "  <svg xmlns=\"http://www.w3.org/2000/svg\" height=\"24px\"viewBox=\"0 0 24 24\"\n",
              "       width=\"24px\">\n",
              "    <path d=\"M0 0h24v24H0V0z\" fill=\"none\"/>\n",
              "    <path d=\"M18.56 5.44l.94 2.06.94-2.06 2.06-.94-2.06-.94-.94-2.06-.94 2.06-2.06.94zm-11 1L8.5 8.5l.94-2.06 2.06-.94-2.06-.94L8.5 2.5l-.94 2.06-2.06.94zm10 10l.94 2.06.94-2.06 2.06-.94-2.06-.94-.94-2.06-.94 2.06-2.06.94z\"/><path d=\"M17.41 7.96l-1.37-1.37c-.4-.4-.92-.59-1.43-.59-.52 0-1.04.2-1.43.59L10.3 9.45l-7.72 7.72c-.78.78-.78 2.05 0 2.83L4 21.41c.39.39.9.59 1.41.59.51 0 1.02-.2 1.41-.59l7.78-7.78 2.81-2.81c.8-.78.8-2.07 0-2.86zM5.41 20L4 18.59l7.72-7.72 1.47 1.35L5.41 20z\"/>\n",
              "  </svg>\n",
              "      </button>\n",
              "      \n",
              "  <style>\n",
              "    .colab-df-container {\n",
              "      display:flex;\n",
              "      flex-wrap:wrap;\n",
              "      gap: 12px;\n",
              "    }\n",
              "\n",
              "    .colab-df-convert {\n",
              "      background-color: #E8F0FE;\n",
              "      border: none;\n",
              "      border-radius: 50%;\n",
              "      cursor: pointer;\n",
              "      display: none;\n",
              "      fill: #1967D2;\n",
              "      height: 32px;\n",
              "      padding: 0 0 0 0;\n",
              "      width: 32px;\n",
              "    }\n",
              "\n",
              "    .colab-df-convert:hover {\n",
              "      background-color: #E2EBFA;\n",
              "      box-shadow: 0px 1px 2px rgba(60, 64, 67, 0.3), 0px 1px 3px 1px rgba(60, 64, 67, 0.15);\n",
              "      fill: #174EA6;\n",
              "    }\n",
              "\n",
              "    [theme=dark] .colab-df-convert {\n",
              "      background-color: #3B4455;\n",
              "      fill: #D2E3FC;\n",
              "    }\n",
              "\n",
              "    [theme=dark] .colab-df-convert:hover {\n",
              "      background-color: #434B5C;\n",
              "      box-shadow: 0px 1px 3px 1px rgba(0, 0, 0, 0.15);\n",
              "      filter: drop-shadow(0px 1px 2px rgba(0, 0, 0, 0.3));\n",
              "      fill: #FFFFFF;\n",
              "    }\n",
              "  </style>\n",
              "\n",
              "      <script>\n",
              "        const buttonEl =\n",
              "          document.querySelector('#df-35020175-ae1e-436b-9f79-ba246b95ba65 button.colab-df-convert');\n",
              "        buttonEl.style.display =\n",
              "          google.colab.kernel.accessAllowed ? 'block' : 'none';\n",
              "\n",
              "        async function convertToInteractive(key) {\n",
              "          const element = document.querySelector('#df-35020175-ae1e-436b-9f79-ba246b95ba65');\n",
              "          const dataTable =\n",
              "            await google.colab.kernel.invokeFunction('convertToInteractive',\n",
              "                                                     [key], {});\n",
              "          if (!dataTable) return;\n",
              "\n",
              "          const docLinkHtml = 'Like what you see? Visit the ' +\n",
              "            '<a target=\"_blank\" href=https://colab.research.google.com/notebooks/data_table.ipynb>data table notebook</a>'\n",
              "            + ' to learn more about interactive tables.';\n",
              "          element.innerHTML = '';\n",
              "          dataTable['output_type'] = 'display_data';\n",
              "          await google.colab.output.renderOutput(dataTable, element);\n",
              "          const docLink = document.createElement('div');\n",
              "          docLink.innerHTML = docLinkHtml;\n",
              "          element.appendChild(docLink);\n",
              "        }\n",
              "      </script>\n",
              "    </div>\n",
              "  </div>\n",
              "  "
            ]
          },
          "metadata": {},
          "execution_count": 44
        }
      ]
    },
    {
      "cell_type": "code",
      "source": [
        "#Representing the neighbouthood groups using matplotlib functions\n",
        "\n",
        "sns.barplot(x=\"Neighbourhood Group\", y=\"Number of listings\", data = neighbourgroup_listings_df, palette='cubehelix') \\\n",
        ".set(title ='Number of listings on the basis of neighbour group')\n",
        "# plt.ylabel('Number of listings')\n",
        "# plt.xlabel('Neighbourhood Group')"
      ],
      "metadata": {
        "colab": {
          "base_uri": "https://localhost:8080/",
          "height": 313
        },
        "id": "Oa1mlbmubpdq",
        "outputId": "9f11323e-5965-4829-b327-517996ebdc91"
      },
      "execution_count": 45,
      "outputs": [
        {
          "output_type": "execute_result",
          "data": {
            "text/plain": [
              "[Text(0.5, 1.0, 'Number of listings on the basis of neighbour group')]"
            ]
          },
          "metadata": {},
          "execution_count": 45
        },
        {
          "output_type": "display_data",
          "data": {
            "text/plain": [
              "<Figure size 432x288 with 1 Axes>"
            ],
            "image/png": "[encoded data removed]"
          },
          "metadata": {
            "needs_background": "light"
          }
        }
      ]
    },
    {
      "cell_type": "markdown",
      "source": [
        "**Comments** - Manhatten, Brooklyn and Queens are the top 3 neighbourhood groups in terms of total number of listings associated with them."
      ],
      "metadata": {
        "id": "x_4d9G7G1Qqw"
      }
    },
    {
      "cell_type": "markdown",
      "source": [
        "## 7). Hosts with maximum number of listings."
      ],
      "metadata": {
        "id": "XbJiI6Y53LSc"
      }
    },
    {
      "cell_type": "code",
      "source": [
        "# Calculating top hosts by doing value_counts() on Host_Id\n",
        "top_hosts = airBnB_Data['host_id'].value_counts().head(20)"
      ],
      "metadata": {
        "id": "CdkM5be24wB0"
      },
      "execution_count": 46,
      "outputs": []
    },
    {
      "cell_type": "code",
      "source": [
        "top_hosts.plot(kind = 'bar', figsize = (15,5))\n",
        "\n",
        "plt.title('Number of listings of Top 20 Hosts', fontsize = 18)\n",
        "plt.xlabel('Host ID', fontsize = 12)\n",
        "plt.ylabel('Number of Listings', fontsize = 12)"
      ],
      "metadata": {
        "colab": {
          "base_uri": "https://localhost:8080/",
          "height": 422
        },
        "id": "X402nHwD5Wdy",
        "outputId": "c6ef2e28-8054-45f9-8ed7-bf1f35006431"
      },
      "execution_count": 47,
      "outputs": [
        {
          "output_type": "execute_result",
          "data": {
            "text/plain": [
              "Text(0, 0.5, 'Number of Listings')"
            ]
          },
          "metadata": {},
          "execution_count": 47
        },
        {
          "output_type": "display_data",
          "data": {
            "text/plain": [
              "<Figure size 1080x360 with 1 Axes>"
            ],
            "image/png": "[encoded data removed]"
          },
          "metadata": {
            "needs_background": "light"
          }
        }
      ]
    },
    {
      "cell_type": "markdown",
      "source": [
        "Representing top 20 hosts accoring to their listings in decreasing order."
      ],
      "metadata": {
        "id": "yvWmzX2i13Ul"
      }
    },
    {
      "cell_type": "markdown",
      "source": [
        "## 8). Which are top neighbourhoods with respect to average price/day?"
      ],
      "metadata": {
        "id": "btnJ3LrH5NlJ"
      }
    },
    {
      "cell_type": "code",
      "source": [
        "# Calculating average price and storing top 10 neighbourhood\n",
        "neighbour_avg_price = airBnB_Data.groupby('neighbourhood')['price'].mean().sort_values(ascending = False).head(10)\n",
        "neighbour_avg_price"
      ],
      "metadata": {
        "id": "Ua88J7TbHwVN",
        "colab": {
          "base_uri": "https://localhost:8080/"
        },
        "outputId": "a7115e35-3eab-49d5-bb5c-af5da87cc515"
      },
      "execution_count": 48,
      "outputs": [
        {
          "output_type": "execute_result",
          "data": {
            "text/plain": [
              "neighbourhood\n",
              "Fort Wadsworth       800.000000\n",
              "Woodrow              700.000000\n",
              "Tribeca              490.638418\n",
              "Sea Gate             487.857143\n",
              "Riverdale            442.090909\n",
              "Prince's Bay         409.500000\n",
              "Battery Park City    367.557143\n",
              "Flatiron District    341.925000\n",
              "Randall Manor        336.000000\n",
              "NoHo                 295.717949\n",
              "Name: price, dtype: float64"
            ]
          },
          "metadata": {},
          "execution_count": 48
        }
      ]
    },
    {
      "cell_type": "code",
      "source": [
        "neighbour_avg_price.plot.bar(figsize = (12,6))\n",
        "plt.title('Average price per day of top 10 neighbourhoods')\n",
        "plt.xlabel('Top 10 neighbourhoods')\n",
        "plt.ylabel('Average price per day')"
      ],
      "metadata": {
        "colab": {
          "base_uri": "https://localhost:8080/",
          "height": 496
        },
        "id": "wdoIeR4Y4Lmh",
        "outputId": "79b62a84-04ac-4892-98fa-2d7b3d8420ca"
      },
      "execution_count": 49,
      "outputs": [
        {
          "output_type": "execute_result",
          "data": {
            "text/plain": [
              "Text(0, 0.5, 'Average price per day')"
            ]
          },
          "metadata": {},
          "execution_count": 49
        },
        {
          "output_type": "display_data",
          "data": {
            "text/plain": [
              "<Figure size 864x432 with 1 Axes>"
            ],
            "image/png": "[encoded data removed]"
          },
          "metadata": {
            "needs_background": "light"
          }
        }
      ]
    },
    {
      "cell_type": "markdown",
      "source": [
        "**Comments** - Among all the nieghbourhoods under neighbourhood groups \"Fort Wadsworth\" is the most expensive neighbourhood where average per day price of rooms is highest in the whole data set."
      ],
      "metadata": {
        "id": "0JPN9Ee84IzM"
      }
    },
    {
      "cell_type": "markdown",
      "source": [
        "# **Findings** -\n",
        "\n",
        "## On the basis of above exploration and analysis, following points can be considered - \n",
        "\n",
        "### \"Neighbourhood group - Manhatten\"\n",
        "*   Most preffered location is \"Manhatten\".\n",
        "*   Why ? \n",
        "\n",
        "    1.   In the whole airbnb data set, most preffered room type is \"Entire home/ apt\". And the highest number of this room category is the found in manhatten.\n",
        "Which means people have more option for their desired room category in manhatten thats why they preffer manhatten.\n",
        "    2.   Average room price on the basis of neighbourhood_group, is highest in manhatten. But if look at the bigger picture and try to figure out the most expensive rooms on the basis of neighbourhood, we found that the most expensive rooms are in \"Fort-Wadsworth\" which is in Staten Island. And that is least preffered place.\n",
        "\n",
        "### Neighbourhood Group - Staten Island\n",
        "*   Least preffered place is \"Staten Island\"\n",
        "*   Why?\n",
        "    1.  Most preffered room category is \"Entire home/apt\" and Staten Island has the least number of rooms of this category.\n",
        "    2.  The average per day price on the basis of neighbourhoods, in staten island there are very expensive neighbourhoods."
      ],
      "metadata": {
        "id": "MkRUtQku4qzO"
      }
    },
    {
      "cell_type": "markdown",
      "source": [
        "---\n",
        "\n"
      ],
      "metadata": {
        "id": "QHaXJPvZ4jgP"
      }
    }
  ]
}